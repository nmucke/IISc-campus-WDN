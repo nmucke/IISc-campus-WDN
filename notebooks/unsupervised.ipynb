{
 "cells": [
  {
   "cell_type": "code",
   "execution_count": 1,
   "metadata": {},
   "outputs": [
    {
     "name": "stdout",
     "output_type": "stream",
     "text": [
      "/export/scratch1/ntm/nikolaj_workstation_data/PhD/ML-for-WDN\n"
     ]
    }
   ],
   "source": [
    "import pdb\n",
    "import numpy as np\n",
    "import pandas as pd\n",
    "import networkx as nx\n",
    "import wntr\n",
    "import torch\n",
    "import torch.nn as nn\n",
    "\n",
    "import matplotlib.pyplot as plt\n",
    "from sklearn.preprocessing import StandardScaler, MinMaxScaler, OneHotEncoder\n",
    "from sklearn.metrics import ConfusionMatrixDisplay, accuracy_score, confusion_matrix\n",
    "from sklearn.pipeline import Pipeline\n",
    "\n",
    "from ML_for_WDN.data_utils import clean_dataframes, load_data\n",
    "\n",
    "from ML_for_WDN.models import UnsupervisedLeakDetector\n",
    "\n",
    "# set working directory to root directory\n",
    "%cd ..\n",
    "\n",
    "torch.set_default_dtype(torch.float32)\n",
    "\n",
    "\n",
    "DATA_FILES_TRAIN = [\n",
    "    'data/data_no_leak.xlsx',\n",
    "]\n",
    "\n",
    "DATA_FILES_TEST = [\n",
    "    'data/data_leak_1.xlsx',\n",
    "    'data/data_leak_2.xlsx',\n",
    "    'data/data_leak_3.xlsx',\n",
    "]\n",
    "\n",
    "columns_to_use = [\n",
    "    'FM01_flow', 'FM02_flow', 'FM03_flow', 'FM05_flow', 'FM06_flow', 'FM08_flow', 'FM09_flow', 'FM11_flow', 'FM13_flow',\n",
    "    'FM01_head', 'FM02_head', 'FM03_head', 'FM05_head', 'FM06_head', 'FM08_head', 'FM09_head', 'FM11_head', 'FM13_head',\n",
    "]\n",
    "\n",
    "# Train data\n",
    "dataframes = []\n",
    "for data_file in DATA_FILES_TRAIN:\n",
    "    df = load_data(data_file)\n",
    "    dataframes.append(df)\n",
    "\n",
    "dataframes = clean_dataframes(\n",
    "    dataframes,\n",
    "    columns_to_use=columns_to_use,\n",
    ")\n",
    "X_train = dataframes[0]\n",
    "\n",
    "X_test = X_train.iloc[-5000:, :]\n",
    "X_train = X_train.iloc[:-5000, :]\n",
    "\n",
    "X_train = X_train.values\n",
    "\n",
    "# Test data\n",
    "dataframes = []\n",
    "for data_file in DATA_FILES_TEST:\n",
    "    df = load_data(data_file)\n",
    "    dataframes.append(df)\n",
    "\n",
    "dataframes = clean_dataframes(\n",
    "    dataframes,\n",
    "    columns_to_use=columns_to_use,\n",
    ")\n",
    "dataframes = pd.concat(dataframes, ignore_index=True)\n",
    "\n",
    "X_test = pd.concat([X_test, dataframes], ignore_index=True)\n",
    "X_test = X_test.values\n",
    "\n",
    "y_test = np.zeros((X_test.shape[0]))\n",
    "y_test[0:5000] = 1\n",
    "y_test[5000:] = -1\n"
   ]
  },
  {
   "cell_type": "code",
   "execution_count": 5,
   "metadata": {},
   "outputs": [],
   "source": [
    "\n",
    "LATENT_DIM = 4\n",
    "\n",
    "NN_args = {\n",
    "    'encoder_args': {\n",
    "        'hidden_dims': [16, 12, 8],\n",
    "        'latent_dim': LATENT_DIM,\n",
    "    },\n",
    "    'decoder_args': {\n",
    "        'latent_dim': LATENT_DIM,\n",
    "        'hidden_dims': [8, 12, 16],\n",
    "    },\n",
    "    'NN_train_args': {\n",
    "        'epochs': 1000,\n",
    "        'batch_size': 512,\n",
    "        'lr': 5e-3,\n",
    "        'weight_decay': 1e-4,\n",
    "        'loss_fn': nn.MSELoss(),\n",
    "        'supervised_pars': None,\n",
    "    },\n",
    "    'anomaly_detection_args': {},\n",
    "    'device': 'cpu',\n",
    "}\n",
    "\n",
    "model_list = [\n",
    "    UnsupervisedLeakDetector(**NN_args),\n",
    "]\n"
   ]
  },
  {
   "cell_type": "code",
   "execution_count": 7,
   "metadata": {},
   "outputs": [
    {
     "name": "stdout",
     "output_type": "stream",
     "text": [
      "########## Training stage 1 ##########\n",
      "\n",
      "\n",
      "Training autoencoder without leak data\n",
      "\n",
      "\n",
      "Autoencoder architecture:\n",
      "- Latent dimension: 4\n",
      "- Encoder hidden dimensions: [16, 12, 8]\n",
      "- Decoder hidden dimensions: [8, 12, 16]\n",
      "\n",
      "\n"
     ]
    },
    {
     "name": "stderr",
     "output_type": "stream",
     "text": [
      "  0%|          | 0/1000 [00:00<?, ?it/s]"
     ]
    },
    {
     "name": "stderr",
     "output_type": "stream",
     "text": [
      "Loss: 0.4113 | Latent: 1.4647: 100%|██████████| 1000/1000 [02:45<00:00,  6.04it/s]\n"
     ]
    },
    {
     "name": "stdout",
     "output_type": "stream",
     "text": [
      "\n",
      "\n",
      "Autoencoder training complete\n",
      "\n",
      "\n",
      "########## Training stage 2 ##########\n",
      "\n",
      "\n",
      "Training anomaly detector using autoencoder\n",
      "\n",
      "\n",
      "Anomaly detector training complete\n",
      "\n",
      "\n",
      "Accuracy: 0.943\n",
      "Recall: 0.2056\n",
      "Precision: 0.40361209265802905\n"
     ]
    },
    {
     "data": {
      "image/png": "[encoded data removed]",
      "text/plain": [
       "<Figure size 640x480 with 2 Axes>"
      ]
     },
     "metadata": {},
     "output_type": "display_data"
    }
   ],
   "source": [
    "for model in model_list:\n",
    "    pipeline = Pipeline([\n",
    "        ('scaler',  StandardScaler()),\n",
    "        ('model', model),\n",
    "    ])\n",
    "\n",
    "    pipeline.fit(\n",
    "        X=X_train,\n",
    "    )\n",
    "\n",
    "    preds = pipeline.predict(\n",
    "        X=X_test,\n",
    "    )\n",
    "    \n",
    "    cm = confusion_matrix(y_test, preds)\n",
    "    print(f'Accuracy: {accuracy_score(y_test, preds):0.3f}')\n",
    "    print(f'Recall: {cm[1,1]/(cm[1,1]+cm[1,0])}')\n",
    "    print(f'Precision: {cm[1,1]/(cm[1,1]+cm[0,1])}')\n",
    "        \n",
    "    disp = ConfusionMatrixDisplay(\n",
    "        confusion_matrix=cm,\n",
    "        display_labels=['leak', 'No Leak'],\n",
    "    )\n",
    "    disp.plot()\n",
    "    plt.show()\n"
   ]
  },
  {
   "cell_type": "code",
   "execution_count": null,
   "metadata": {},
   "outputs": [],
   "source": []
  }
 ],
 "metadata": {
  "kernelspec": {
   "display_name": ".venv",
   "language": "python",
   "name": "python3"
  },
  "language_info": {
   "codemirror_mode": {
    "name": "ipython",
    "version": 3
   },
   "file_extension": ".py",
   "mimetype": "text/x-python",
   "name": "python",
   "nbconvert_exporter": "python",
   "pygments_lexer": "ipython3",
   "version": "3.10.9"
  }
 },
 "nbformat": 4,
 "nbformat_minor": 2
}
